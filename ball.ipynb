{
 "cells": [
  {
   "cell_type": "code",
   "execution_count": 2,
   "source": [
    "import numpy as np\n",
    "import matplotlib.pyplot as plt\n",
    "from math import sqrt\n",
    "import math"
   ],
   "outputs": [],
   "metadata": {}
  },
  {
   "cell_type": "code",
   "execution_count": 55,
   "source": [
    "def make_normal_albedo(radius, albedo_value):\n",
    "    len = 2 * radius + 1\n",
    "    cen = radius\n",
    "    normal = np.zeros((len, len, 3))\n",
    "    albedo = np.full((len, len), albedo_value)\n",
    "    mask = np.empty((len, len), dtype=bool)\n",
    "\n",
    "    for i in range(len):\n",
    "        for j in range(len):\n",
    "            mask[i, j] = ((i-cen)**2 + (j-cen)**2 <= radius**2)\n",
    "            kx = (j-cen) / radius\n",
    "            ky = (cen-i) / radius\n",
    "            kz = sqrt(max(1 - kx**2 - ky**2, 0))\n",
    "            normal[i, j, 0] = kx\n",
    "            normal[i, j, 1] = ky\n",
    "            normal[i, j, 2] = kz\n",
    "\n",
    "    albedo[~mask] = 0\n",
    "    normal[~mask] = 0\n",
    "\n",
    "    return (albedo, normal, mask)"
   ],
   "outputs": [],
   "metadata": {}
  },
  {
   "cell_type": "code",
   "execution_count": 56,
   "source": [
    "def measurement(light, albedo, normal):\n",
    "    B = (albedo * normal.T).T\n",
    "    measurement = B @ light\n",
    "    index = measurement < 0\n",
    "    measurement[index] = 0\n",
    "\n",
    "    return measurement"
   ],
   "outputs": [],
   "metadata": {}
  },
  {
   "cell_type": "code",
   "execution_count": 57,
   "source": [
    "Light = []\n",
    "filename = './src/'\n",
    "\n",
    "albedo, normal, mask = make_normal_albedo(200, 1)\n",
    "np.save('./gt_normal.npy', normal)\n",
    "plt.imsave('./mask.png', albedo, cmap='gray')\n",
    "phi = math.pi / 2.1\n",
    "\n",
    "for i in range(100):\n",
    "    theta = 2*math.pi / 100 * i\n",
    "    light = [math.cos(theta)*math.cos(phi), math.sin(theta)*math.cos(phi), math.sin(phi)]\n",
    "    M = measurement(light, albedo, normal)\n",
    "    Light.append(light)\n",
    "    np.save(filename+'img{}.npy'.format('%03d'%i), M)\n",
    "\n",
    "Light = np.array(Light)\n",
    "np.save('./lights.npy', Light)"
   ],
   "outputs": [],
   "metadata": {}
  },
  {
   "cell_type": "code",
   "execution_count": null,
   "source": [],
   "outputs": [],
   "metadata": {}
  }
 ],
 "metadata": {
  "orig_nbformat": 4,
  "language_info": {
   "name": "python"
  }
 },
 "nbformat": 4,
 "nbformat_minor": 2
}